{
 "cells": [
  {
   "cell_type": "markdown",
   "metadata": {
    "slideshow": {
     "slide_type": "slide"
    }
   },
   "source": [
    "# Introduction to Python\n",
    "\n",
    "\n",
    "Python ke bare me janne me pehle, chalo dekhte hai ek programming language ki jarurat hi kya hai?"
   ]
  },
  {
   "cell_type": "markdown",
   "metadata": {
    "slideshow": {
     "slide_type": "slide"
    }
   },
   "source": [
    "### Programming language kya hai? Uski hume kyu jarurat hai?\n",
    "\n",
    "Programming language ek set set of rules hai jo humko machines ko control karne deti hai. Hum insaan aalsi hai, jo khud kum se kum kam karna chahte hai.\n",
    "\n",
    "Iss aalas ki samasya ko suljhane ke liye hum machines ka upyog kar sakte hai. Unse kam karae jisse hum apne aur jaruri kamo par dhyan de sake(jaise sona :-p).\n",
    "\n",
    "Par ek problem hai, machines keval `0` aur `1`(binary) ki hi bhasha samjhti hai. Uss basha ko hume samajhne ke kafi mushkile hogi. Iss samay ko solve karne ke liye hum programming language ki upyog karte hai.\n",
    "\n",
    "Pratidin hum apne vicharo ko dusro tak pahuchane ke liye hum bol chal ki basha(language) ki upyog karte hai. Thode bahut niyam pehle se ho, toh ek dusre ko samajhne me aasani ho sakti hai. Thik usi tarah har programming language ke bhi kuch niyam hote hai.\n",
    "\n",
    "Niche gae do image yah dikhane ki koshish karti hai ki aapsi sanchar(communication) ke liye kuch niyam(hum inn niyamo ko basha kehte hai) kyu jaruri hai."
   ]
  },
  {
   "cell_type": "markdown",
   "metadata": {
    "slideshow": {
     "slide_type": "slide"
    }
   },
   "source": [
    "### Aam Samvad(Conversation)\n",
    "\n",
    "<img src=\"../../images/normal-conversation.jpg\" alt=\"Normal Conversation\" style=\"width:300px;display:block;margin-left:auto;margin-right:auto;\"/>"
   ]
  },
  {
   "cell_type": "markdown",
   "metadata": {
    "slideshow": {
     "slide_type": "slide"
    }
   },
   "source": [
    "### Gupt Samvad\n",
    "\n",
    "<img alt=\"Cryptic-conversation\" src=\"../../images/cryptic-conversation.jpg\" style=\"width:300px;display:block;margin-left:auto;margin-right:auto;\"/>"
   ]
  },
  {
   "cell_type": "markdown",
   "metadata": {
    "slideshow": {
     "slide_type": "slide"
    }
   },
   "source": [
    "### Python hi kyu sikhe?\n",
    "\n",
    "Itni sari programming languages hai. Ek sawal jo aapke dimag me aa sakti hai, python hi kyu sikhe?\n",
    "\n",
    "Python ek user-friendly(aasani se upyog karne wali) language. Kafi jagaho par aapko lag sakti hai ki iski syntax kuch kuch angrezi(English) language se milti hai.\n",
    "\n",
    "Uske saath hi saath, ye puri tarike se free, aur open-source hai. Isko upyog karne wali community(samuday) kaafi badi hai. Agar apko koi bhi samasya aati hai to inn me se aapki help karne ke liye kafi log mil sakte hai.\n",
    "\n",
    "Ab jane ki koshish karte hai hum python kaha kaha upyog kar sakte hai?"
   ]
  },
  {
   "cell_type": "markdown",
   "metadata": {
    "slideshow": {
     "slide_type": "fragment"
    }
   },
   "source": [
    "- Web sites\n",
    "\n",
    "Kuch popular(jani mani) website jaise ki Instagram, Netflix, Washington Post vagerah kisi se kisi roop me python ka upyog karti hai."
   ]
  },
  {
   "cell_type": "markdown",
   "metadata": {
    "slideshow": {
     "slide_type": "fragment"
    }
   },
   "source": [
    "- Scripting\n",
    "\n",
    "Sochiye aap apni machine me kuch customization(apne hisab se dhalna) karna chahte hai. Aap chahte hai aapke keyboard ki LED light flicker(bar bar jalna bhujna) kare jaise ki aapko ek email aaye. Iss tarah se kamo ke liye python aapki madad kar sakti hai."
   ]
  },
  {
   "cell_type": "markdown",
   "metadata": {
    "slideshow": {
     "slide_type": "fragment"
    }
   },
   "source": [
    "- Artificial Intelligence\n",
    "\n",
    "Python iss field me upyog hone wali sabse popular langugages me se ek hai(isko likhte samay, `python` sabse popular hai). Uske pas kafi upyogi libraries hai `tensorflow`, `pandas`, `scikit-learn`, `numpy` jo complex kam jo aasan bana deti hai."
   ]
  },
  {
   "cell_type": "markdown",
   "metadata": {
    "slideshow": {
     "slide_type": "fragment"
    }
   },
   "source": [
    "- Games\n",
    "\n",
    "Vaise toh python jadetar games ke liye sabse pasandida choices me se nahi hai, lekin iski kuch popular libraries jaise ``PyGame`` aur ``kivy`` vagerah ka upyog kar aap kuch mazedar chize bana sakte hai."
   ]
  },
  {
   "cell_type": "markdown",
   "metadata": {
    "slideshow": {
     "slide_type": "slide"
    }
   },
   "source": [
    "Ab jab hume thodi jankari prapt kar liye hai unn chizo me kare me jinhe hum Python ka upyog kar ke bana sakte hai, chaliye koshish karte hai samjne ki ek program kya hai? Isko Python me kaise upyog kar sakte hai.\n",
    "\n",
    "\n",
    "### Ek program kya hai?\n",
    "\n",
    "Ek program ek set of instructions(nirdesh) hai jo aap ek machine ko dete hai.\n",
    "\n",
    "Niche di gae image kafi logo kis tarike se chocolate khate hai use darshane ki koshish karti hai."
   ]
  },
  {
   "cell_type": "markdown",
   "metadata": {
    "slideshow": {
     "slide_type": "fragment"
    }
   },
   "source": [
    "<img src=\"../images/hinglish/eating-a-chocolate.svg\" alt=\"Chocolate khane ke sambhavit nirdesh\">"
   ]
  },
  {
   "cell_type": "markdown",
   "metadata": {
    "slideshow": {
     "slide_type": "slide"
    }
   },
   "source": [
    "Ab jab hum jante hai programs kya hai, chaliye kuch basic chize ko sikhne ki koshish karte hai.\n",
    "\n",
    "### Solving basic mathematics"
   ]
  },
  {
   "cell_type": "code",
   "execution_count": 19,
   "metadata": {
    "slideshow": {
     "slide_type": "fragment"
    }
   },
   "outputs": [
    {
     "data": {
      "text/plain": [
       "256"
      ]
     },
     "execution_count": 19,
     "metadata": {},
     "output_type": "execute_result"
    }
   ],
   "source": [
    "# 2 to the power 8\n",
    "2 ** 8"
   ]
  },
  {
   "cell_type": "code",
   "execution_count": 4,
   "metadata": {
    "slideshow": {
     "slide_type": "fragment"
    }
   },
   "outputs": [
    {
     "data": {
      "text/plain": [
       "50.256"
      ]
     },
     "execution_count": 4,
     "metadata": {},
     "output_type": "execute_result"
    }
   ],
   "source": [
    "# perimeter of a circle jiski radius 8\n",
    "2 * 3.141 * 8"
   ]
  },
  {
   "cell_type": "code",
   "execution_count": 3,
   "metadata": {
    "scrolled": true,
    "slideshow": {
     "slide_type": "fragment"
    }
   },
   "outputs": [
    {
     "data": {
      "text/plain": [
       "201.024"
      ]
     },
     "execution_count": 3,
     "metadata": {},
     "output_type": "execute_result"
    }
   ],
   "source": [
    "# area of a circle of radius 8\n",
    "3.141 * 8 ** 2"
   ]
  },
  {
   "cell_type": "code",
   "execution_count": 8,
   "metadata": {
    "slideshow": {
     "slide_type": "slide"
    }
   },
   "outputs": [
    {
     "data": {
      "text/plain": [
       "56"
      ]
     },
     "execution_count": 8,
     "metadata": {},
     "output_type": "execute_result"
    }
   ],
   "source": [
    "# simple multiplication\n",
    "7 * 8"
   ]
  },
  {
   "cell_type": "markdown",
   "metadata": {
    "slideshow": {
     "slide_type": "slide"
    }
   },
   "source": [
    "### Variables\n",
    "\n",
    "Agar aap dhyan se dekhiye toh humne `pi` ki value `3.141` use kari hai abhi tak ki calcualtions me. Par agar hum thodi aur accurate value chahte hai area aur perimeter ki, toh kya hogi? Humko sabhi jagah change karni padegi, jaha jaha bhi hum `pi` ko `3.141` upyog kar rahe the. Iss samsya ko solve karne ke liye hum variable ka use karenge.\n",
    "\n",
    "Unki madad se hum, ek name assign(saupna) kar sakte hai values ko jo ab hum apne program me upyog kar sakte hai. \n",
    "Ab agar hum precision bhadane ke liye, `pi` ki value ko badalna chahte hai toh hume keval ek hi jagah change karni hogi, jaha par humne declare kari thi."
   ]
  },
  {
   "cell_type": "code",
   "execution_count": 3,
   "metadata": {
    "slideshow": {
     "slide_type": "fragment"
    }
   },
   "outputs": [],
   "source": [
    "pi = 3.141592"
   ]
  },
  {
   "cell_type": "code",
   "execution_count": 5,
   "metadata": {
    "slideshow": {
     "slide_type": "fragment"
    }
   },
   "outputs": [],
   "source": [
    "radius = 9"
   ]
  },
  {
   "cell_type": "code",
   "execution_count": 7,
   "metadata": {
    "slideshow": {
     "slide_type": "fragment"
    }
   },
   "outputs": [
    {
     "data": {
      "text/plain": [
       "254.468952"
      ]
     },
     "execution_count": 7,
     "metadata": {},
     "output_type": "execute_result"
    }
   ],
   "source": [
    "# area\n",
    "pi * radius ** 2"
   ]
  },
  {
   "cell_type": "code",
   "execution_count": 8,
   "metadata": {
    "slideshow": {
     "slide_type": "slide"
    }
   },
   "outputs": [
    {
     "data": {
      "text/plain": [
       "56.548656"
      ]
     },
     "execution_count": 8,
     "metadata": {},
     "output_type": "execute_result"
    }
   ],
   "source": [
    "# perimeter/circumference\n",
    "2 * pi * radius"
   ]
  },
  {
   "cell_type": "markdown",
   "metadata": {
    "slideshow": {
     "slide_type": "slide"
    }
   },
   "source": [
    "### Variables ke nam rakhne ke rules\n",
    "\n",
    "Kuch rules jinko aapko dhyan me rakhni hogi, variables ka nam rakhte samay."
   ]
  },
  {
   "cell_type": "markdown",
   "metadata": {
    "slideshow": {
     "slide_type": "fragment"
    }
   },
   "source": [
    "- Shuru ek letter ya fhir underscore (`_`) character se honi chahiye."
   ]
  },
  {
   "cell_type": "code",
   "execution_count": 9,
   "metadata": {
    "slideshow": {
     "slide_type": "fragment"
    }
   },
   "outputs": [],
   "source": [
    "# ye kar sakte hai\n",
    "pie = 3.14"
   ]
  },
  {
   "cell_type": "code",
   "execution_count": 10,
   "metadata": {
    "slideshow": {
     "slide_type": "fragment"
    }
   },
   "outputs": [],
   "source": [
    "# ye bhi kar sakte hai\n",
    "_radius = 3"
   ]
  },
  {
   "cell_type": "code",
   "execution_count": 11,
   "metadata": {
    "slideshow": {
     "slide_type": "slide"
    }
   },
   "outputs": [],
   "source": [
    "# yeh kar sakte hai, lekin ye general recommend(salah) nahi karte\n",
    "_8 = 1"
   ]
  },
  {
   "cell_type": "markdown",
   "metadata": {
    "slideshow": {
     "slide_type": "slide"
    }
   },
   "source": [
    "- Number se shuru nahi kar sakte."
   ]
  },
  {
   "cell_type": "code",
   "execution_count": 12,
   "metadata": {
    "slideshow": {
     "slide_type": "fragment"
    }
   },
   "outputs": [
    {
     "ename": "SyntaxError",
     "evalue": "invalid syntax (<ipython-input-12-27bc6dd5645e>, line 2)",
     "output_type": "error",
     "traceback": [
      "\u001b[0;36m  File \u001b[0;32m\"<ipython-input-12-27bc6dd5645e>\"\u001b[0;36m, line \u001b[0;32m2\u001b[0m\n\u001b[0;31m    9i = 8\u001b[0m\n\u001b[0m     ^\u001b[0m\n\u001b[0;31mSyntaxError\u001b[0m\u001b[0;31m:\u001b[0m invalid syntax\n"
     ]
    }
   ],
   "source": [
    "# ye nahi kam karegi\n",
    "9i = 8"
   ]
  },
  {
   "cell_type": "markdown",
   "metadata": {
    "slideshow": {
     "slide_type": "slide"
    }
   },
   "source": [
    "- Keval letters, numbers ya fhir underscores hi contain(shamil) kar sakte hai (`A-Z, a-Z, 0-9, _`)"
   ]
  },
  {
   "cell_type": "code",
   "execution_count": 13,
   "metadata": {
    "slideshow": {
     "slide_type": "fragment"
    }
   },
   "outputs": [
    {
     "ename": "SyntaxError",
     "evalue": "invalid syntax (<ipython-input-13-38083778abc8>, line 2)",
     "output_type": "error",
     "traceback": [
      "\u001b[0;36m  File \u001b[0;32m\"<ipython-input-13-38083778abc8>\"\u001b[0;36m, line \u001b[0;32m2\u001b[0m\n\u001b[0;31m    u* = 12\u001b[0m\n\u001b[0m       ^\u001b[0m\n\u001b[0;31mSyntaxError\u001b[0m\u001b[0;31m:\u001b[0m invalid syntax\n"
     ]
    }
   ],
   "source": [
    "# ye nahi chalegi\n",
    "u* = 12"
   ]
  },
  {
   "cell_type": "code",
   "execution_count": 14,
   "metadata": {
    "slideshow": {
     "slide_type": "slide"
    }
   },
   "outputs": [],
   "source": [
    "# ye chalegi\n",
    "u8 = 12"
   ]
  },
  {
   "cell_type": "markdown",
   "metadata": {
    "slideshow": {
     "slide_type": "slide"
    }
   },
   "source": [
    "- Case-sensitive hote hai\n",
    "    - Capital letter(Upper case) aur small letter(lower case) same nahi hai(`name`, `Name` aur `NAME` teen different(alag) variable hai)."
   ]
  },
  {
   "cell_type": "code",
   "execution_count": 16,
   "metadata": {
    "slideshow": {
     "slide_type": "fragment"
    }
   },
   "outputs": [],
   "source": [
    "radius = 9"
   ]
  },
  {
   "cell_type": "code",
   "execution_count": 17,
   "metadata": {
    "slideshow": {
     "slide_type": "fragment"
    }
   },
   "outputs": [
    {
     "data": {
      "text/plain": [
       "9"
      ]
     },
     "execution_count": 17,
     "metadata": {},
     "output_type": "execute_result"
    }
   ],
   "source": [
    "radius"
   ]
  },
  {
   "cell_type": "code",
   "execution_count": 18,
   "metadata": {
    "slideshow": {
     "slide_type": "fragment"
    }
   },
   "outputs": [
    {
     "ename": "NameError",
     "evalue": "name 'RADIUS' is not defined",
     "output_type": "error",
     "traceback": [
      "\u001b[0;31m---------------------------------------------------------------------------\u001b[0m",
      "\u001b[0;31mNameError\u001b[0m                                 Traceback (most recent call last)",
      "\u001b[0;32m<ipython-input-18-a072a9317ab4>\u001b[0m in \u001b[0;36m<module>\u001b[0;34m\u001b[0m\n\u001b[1;32m      1\u001b[0m \u001b[0;31m# this is not defined\u001b[0m\u001b[0;34m\u001b[0m\u001b[0;34m\u001b[0m\u001b[0;34m\u001b[0m\u001b[0m\n\u001b[0;32m----> 2\u001b[0;31m \u001b[0mRADIUS\u001b[0m\u001b[0;34m\u001b[0m\u001b[0;34m\u001b[0m\u001b[0m\n\u001b[0m",
      "\u001b[0;31mNameError\u001b[0m: name 'RADIUS' is not defined"
     ]
    }
   ],
   "source": [
    "# ye defined nahi hai\n",
    "RADIUS"
   ]
  },
  {
   "cell_type": "markdown",
   "metadata": {
    "slideshow": {
     "slide_type": "slide"
    }
   },
   "source": [
    "## Data Types\n",
    "\n",
    "Variables se aage bhadte hue, ab hum ye samajhne ki koshish karte hai ki kya alag alag types Python assign karti hai inn values(data) ko. Iska upyog kar hum apne data ko alag alag dhang se manipulate(badal) sakte hai.\n",
    "\n",
    "Python dynamically(matlab execute karte time) assign karti hai type(`int`, `float`, `str` vagerah). Ye type data(value) par depend(nirbhar) karti hai.\n",
    "\n",
    "Aap `type` function ki upyog kar test kar sakte hai ek value ki type. Yah chiz agar aap kisi dusri programming language ke background(prishtbhumi) se aa rahe hai toh thodi ajeeb lag sakti hai.\n",
    "\n",
    "Aaiye ab alag alag Python ke alag alag data types ke bare me jante hai. \n",
    "\n",
    "\n",
    "### Numbers"
   ]
  },
  {
   "cell_type": "markdown",
   "metadata": {
    "slideshow": {
     "slide_type": "slide"
    }
   },
   "source": [
    "- `int`\n",
    "\n",
    "Iska upyog integer value ke liye kiya jata hai."
   ]
  },
  {
   "cell_type": "code",
   "execution_count": 17,
   "metadata": {
    "slideshow": {
     "slide_type": "fragment"
    }
   },
   "outputs": [
    {
     "data": {
      "text/plain": [
       "int"
      ]
     },
     "execution_count": 17,
     "metadata": {},
     "output_type": "execute_result"
    }
   ],
   "source": [
    "# type function variable ki type batati hai\n",
    "type(radius)"
   ]
  },
  {
   "cell_type": "code",
   "execution_count": 16,
   "metadata": {
    "scrolled": true,
    "slideshow": {
     "slide_type": "slide"
    }
   },
   "outputs": [
    {
     "data": {
      "text/plain": [
       "int"
      ]
     },
     "execution_count": 16,
     "metadata": {},
     "output_type": "execute_result"
    }
   ],
   "source": [
    "type(45)"
   ]
  },
  {
   "cell_type": "markdown",
   "metadata": {
    "slideshow": {
     "slide_type": "slide"
    }
   },
   "source": [
    "- `float`\n",
    "\n",
    "This is useful for holding decimal values e.g 1.14, 3.13 etc."
   ]
  },
  {
   "cell_type": "code",
   "execution_count": 18,
   "metadata": {
    "slideshow": {
     "slide_type": "fragment"
    }
   },
   "outputs": [
    {
     "data": {
      "text/plain": [
       "float"
      ]
     },
     "execution_count": 18,
     "metadata": {},
     "output_type": "execute_result"
    }
   ],
   "source": [
    "type(pi)"
   ]
  },
  {
   "cell_type": "code",
   "execution_count": 19,
   "metadata": {
    "slideshow": {
     "slide_type": "slide"
    }
   },
   "outputs": [
    {
     "data": {
      "text/plain": [
       "float"
      ]
     },
     "execution_count": 19,
     "metadata": {},
     "output_type": "execute_result"
    }
   ],
   "source": [
    "type(1.03)"
   ]
  },
  {
   "cell_type": "markdown",
   "metadata": {
    "slideshow": {
     "slide_type": "slide"
    }
   },
   "source": [
    "### Booleans\n",
    "\n",
    "Ye kafi upyogi hote hai koi decision(faisla) karne me. Kyunki aap yaha tak pahuch chuke hai, aapne yaha tak pahuchne ki decision pehle hi le li hai ! \n",
    "\n",
    "Aage jakar hum dekhnege hum apne programs me decisions ki kaise use kar sakte hai."
   ]
  },
  {
   "cell_type": "code",
   "execution_count": 1,
   "metadata": {
    "slideshow": {
     "slide_type": "fragment"
    }
   },
   "outputs": [],
   "source": [
    "condition = True"
   ]
  },
  {
   "cell_type": "code",
   "execution_count": 2,
   "metadata": {
    "slideshow": {
     "slide_type": "slide"
    }
   },
   "outputs": [
    {
     "data": {
      "text/plain": [
       "bool"
      ]
     },
     "execution_count": 2,
     "metadata": {},
     "output_type": "execute_result"
    }
   ],
   "source": [
    "type(condition)"
   ]
  },
  {
   "cell_type": "markdown",
   "metadata": {
    "slideshow": {
     "slide_type": "slide"
    }
   },
   "source": [
    "### Strings\n",
    "\n",
    "Inki upyog aap name, address jaisi janki store(sangrah) karne ke liye upyog kar sakti hai"
   ]
  },
  {
   "cell_type": "code",
   "execution_count": 48,
   "metadata": {
    "slideshow": {
     "slide_type": "fragment"
    }
   },
   "outputs": [
    {
     "data": {
      "text/plain": [
       "'name'"
      ]
     },
     "execution_count": 48,
     "metadata": {},
     "output_type": "execute_result"
    }
   ],
   "source": [
    "'name'"
   ]
  },
  {
   "cell_type": "code",
   "execution_count": 49,
   "metadata": {
    "slideshow": {
     "slide_type": "slide"
    }
   },
   "outputs": [],
   "source": [
    "name = 'Tom'"
   ]
  },
  {
   "cell_type": "code",
   "execution_count": 53,
   "metadata": {},
   "outputs": [],
   "source": [
    "name = \"Sita\""
   ]
  },
  {
   "cell_type": "code",
   "execution_count": 64,
   "metadata": {},
   "outputs": [],
   "source": [
    "sentence = \"I can't call you now\""
   ]
  },
  {
   "cell_type": "code",
   "execution_count": 65,
   "metadata": {},
   "outputs": [
    {
     "data": {
      "text/plain": [
       "\"I can't call you now\""
      ]
     },
     "execution_count": 65,
     "metadata": {},
     "output_type": "execute_result"
    }
   ],
   "source": [
    "sentence"
   ]
  },
  {
   "cell_type": "markdown",
   "metadata": {
    "slideshow": {
     "slide_type": "slide"
    }
   },
   "source": [
    "- Concatenation\n",
    "\n",
    "Iska matlab strings ko ek saath jodna."
   ]
  },
  {
   "cell_type": "code",
   "execution_count": 13,
   "metadata": {
    "slideshow": {
     "slide_type": "fragment"
    }
   },
   "outputs": [],
   "source": [
    "full_name = 'lady' + 'gaga'"
   ]
  },
  {
   "cell_type": "code",
   "execution_count": 74,
   "metadata": {},
   "outputs": [
    {
     "data": {
      "text/plain": [
       "'lady gaga'"
      ]
     },
     "execution_count": 74,
     "metadata": {},
     "output_type": "execute_result"
    }
   ],
   "source": [
    "\"lady\" + ' gaga'"
   ]
  },
  {
   "cell_type": "code",
   "execution_count": 77,
   "metadata": {},
   "outputs": [
    {
     "data": {
      "text/plain": [
       "'8 street'"
      ]
     },
     "execution_count": 77,
     "metadata": {},
     "output_type": "execute_result"
    }
   ],
   "source": [
    "'8' + ' street'"
   ]
  },
  {
   "cell_type": "markdown",
   "metadata": {
    "slideshow": {
     "slide_type": "fragment"
    }
   },
   "source": [
    "##### Hum strings ke bare me aage aane wale chapters me detail me (vistar se) padhenge."
   ]
  },
  {
   "cell_type": "markdown",
   "metadata": {
    "slideshow": {
     "slide_type": "slide"
    }
   },
   "source": [
    "### Print function\n",
    "\n",
    "Iski use hum output ko apni screen par display(dikhane) ke liye kar sakte hai."
   ]
  },
  {
   "cell_type": "code",
   "execution_count": 12,
   "metadata": {
    "slideshow": {
     "slide_type": "fragment"
    }
   },
   "outputs": [
    {
     "name": "stdout",
     "output_type": "stream",
     "text": [
      "hello\n"
     ]
    }
   ],
   "source": [
    "print('hello')"
   ]
  },
  {
   "cell_type": "code",
   "execution_count": 83,
   "metadata": {},
   "outputs": [],
   "source": [
    "area = pie * radius ** 2\n",
    "\n"
   ]
  },
  {
   "cell_type": "code",
   "execution_count": 84,
   "metadata": {
    "slideshow": {
     "slide_type": "slide"
    }
   },
   "outputs": [
    {
     "name": "stdout",
     "output_type": "stream",
     "text": [
      "The area of circle is: 254.34\n"
     ]
    }
   ],
   "source": [
    "print('The area of circle is:', area)"
   ]
  },
  {
   "cell_type": "markdown",
   "metadata": {
    "slideshow": {
     "slide_type": "slide"
    }
   },
   "source": [
    "### Comments\n",
    "\n",
    "Jo bhi line `#` se shuru hoti hai, usko comment mante hai. Aapne dhyan diya ho toh hum abhi tak kae examples me iska upyog kar chuke hai. Inn comments ka upyog programmers(vo jo program likhte hai) vo apni samajh ke liye upyogi sabit ho sakte hai, machines inko ignore kar deti hai.\n",
    "\n",
    "Ye kafi upyogi hote hai logo ko apne thought process(sochne ka tarika) ke bare me dhyan dilane ke bare me, jab vo vapas apne code ko kuch samay baad dekh rahe hote hai."
   ]
  },
  {
   "cell_type": "code",
   "execution_count": 24,
   "metadata": {
    "slideshow": {
     "slide_type": "slide"
    }
   },
   "outputs": [],
   "source": [
    "# initialization\n",
    "x = 2"
   ]
  },
  {
   "cell_type": "code",
   "execution_count": 20,
   "metadata": {
    "slideshow": {
     "slide_type": "fragment"
    }
   },
   "outputs": [],
   "source": [
    "# ek se jada line(multi-line) ke comment ke liye\n",
    "# par line ko #(pound) symbol se shuru kar sakte hai"
   ]
  },
  {
   "cell_type": "markdown",
   "metadata": {
    "slideshow": {
     "slide_type": "slide"
    }
   },
   "source": [
    "### Jab aap code me comment nahi likhte\n",
    "\n",
    "<img src=\"https://img-9gag-fun.9cache.com/photo/agYKEEq_700bwp.webp\" style=\"heigh:200px;;display:block;margin-left:auto;margin-right:auto;\" alt=\"Code comment meme\"/>\n",
    "\n",
    "#### Hindi Subtitle \n",
    "Pehle keval mai aur bhagan samajhte the yeh code kya karti hai?\n",
    "\n",
    "Ab keval bhagwan!"
   ]
  },
  {
   "cell_type": "markdown",
   "metadata": {
    "slideshow": {
     "slide_type": "slide"
    }
   },
   "source": [
    "### User Input\n",
    "\n",
    "Abhi tak, hum khud se values de rahe the programs ko. Jadetar real-life(asal zindagi) cases(mamlo) me, aap input user se lena chahenge.\n",
    "\n",
    "Example(Udaharan) ke roop me iss website ko dekhiye jo iss form ka upyog jankari ikattha karne ke liye karti hai."
   ]
  },
  {
   "attachments": {
    "image.png": {
     "image/png": "[encoded data removed]"
    }
   },
   "cell_type": "markdown",
   "metadata": {
    "slideshow": {
     "slide_type": "fragment"
    }
   },
   "source": [
    "![image.png](attachment:image.png)"
   ]
  },
  {
   "cell_type": "markdown",
   "metadata": {
    "slideshow": {
     "slide_type": "slide"
    }
   },
   "source": [
    "`input` function ki upyog kar hum user se values le sakte hai."
   ]
  },
  {
   "cell_type": "code",
   "execution_count": 26,
   "metadata": {
    "slideshow": {
     "slide_type": "slide"
    }
   },
   "outputs": [
    {
     "name": "stdout",
     "output_type": "stream",
     "text": [
      "ritu\n"
     ]
    }
   ],
   "source": [
    "name = input()"
   ]
  },
  {
   "cell_type": "code",
   "execution_count": 28,
   "metadata": {
    "slideshow": {
     "slide_type": "slide"
    }
   },
   "outputs": [
    {
     "data": {
      "text/plain": [
       "'ritu'"
      ]
     },
     "execution_count": 28,
     "metadata": {},
     "output_type": "execute_result"
    }
   ],
   "source": [
    "name"
   ]
  },
  {
   "cell_type": "code",
   "execution_count": 29,
   "metadata": {
    "slideshow": {
     "slide_type": "slide"
    }
   },
   "outputs": [
    {
     "name": "stdout",
     "output_type": "stream",
     "text": [
      "Enter username:user\n",
      "Enter password:pass\n",
      "Your username is: user\n",
      "Your password is: pass\n"
     ]
    }
   ],
   "source": [
    "username = input('Enter username:')\n",
    "password = input('Enter password:')\n",
    "\n",
    "print('Your username is:', username)\n",
    "print('Your password is:', password)"
   ]
  },
  {
   "cell_type": "markdown",
   "metadata": {
    "slideshow": {
     "slide_type": "slide"
    }
   },
   "source": [
    "### Integer Input\n",
    "\n",
    "Abhi tak, hum `strings` input le rahe the. Tab kya karenge jab hum numbers input le ho? Jaise ki aaj ki temperature(taapman).\n",
    "\n",
    "Hum `int` function ka upyog kar iss tarike se kar iss samasya ko solve kar sakte hai. Vo value ko `int` type me badal deti hai(yaad kariye hum kuch samay pehle hi alag alag types ke bare me padha tha)."
   ]
  },
  {
   "cell_type": "code",
   "execution_count": 30,
   "metadata": {
    "slideshow": {
     "slide_type": "fragment"
    }
   },
   "outputs": [
    {
     "name": "stdout",
     "output_type": "stream",
     "text": [
      "Enter radius:2\n",
      "The area of the circle is: 12.56\n"
     ]
    }
   ],
   "source": [
    "radius = int(input('Enter radius:'))\n",
    "pie = 3.14\n",
    "area = pie * radius ** 2\n",
    "print('The area of the circle is:', area)"
   ]
  },
  {
   "cell_type": "code",
   "execution_count": 103,
   "metadata": {
    "slideshow": {
     "slide_type": "slide"
    }
   },
   "outputs": [
    {
     "name": "stdout",
     "output_type": "stream",
     "text": [
      "Enter a number:96a\n"
     ]
    },
    {
     "ename": "ValueError",
     "evalue": "invalid literal for int() with base 10: '96a'",
     "output_type": "error",
     "traceback": [
      "\u001b[0;31m---------------------------------------------------------------------------\u001b[0m",
      "\u001b[0;31mValueError\u001b[0m                                Traceback (most recent call last)",
      "\u001b[0;32m<ipython-input-103-3f7c3163fa4a>\u001b[0m in \u001b[0;36m<module>\u001b[0;34m\u001b[0m\n\u001b[0;32m----> 1\u001b[0;31m \u001b[0mint\u001b[0m\u001b[0;34m(\u001b[0m\u001b[0minput\u001b[0m\u001b[0;34m(\u001b[0m\u001b[0;34m'Enter a number:'\u001b[0m\u001b[0;34m)\u001b[0m\u001b[0;34m)\u001b[0m\u001b[0;34m\u001b[0m\u001b[0;34m\u001b[0m\u001b[0m\n\u001b[0m",
      "\u001b[0;31mValueError\u001b[0m: invalid literal for int() with base 10: '96a'"
     ]
    }
   ],
   "source": [
    "int(input('Enter a number:'))"
   ]
  },
  {
   "cell_type": "markdown",
   "metadata": {
    "slideshow": {
     "slide_type": "slide"
    }
   },
   "source": [
    "### Kuch practice problems(abhyas ke liye)"
   ]
  },
  {
   "cell_type": "markdown",
   "metadata": {
    "slideshow": {
     "slide_type": "fragment"
    }
   },
   "source": [
    "- Ek program likhiye jo user se unki name puchti hai aur unko ek message ke saath welcome(abhivadan) karti hai."
   ]
  },
  {
   "cell_type": "code",
   "execution_count": null,
   "metadata": {
    "slideshow": {
     "slide_type": "slide"
    }
   },
   "outputs": [],
   "source": []
  },
  {
   "cell_type": "markdown",
   "metadata": {
    "slideshow": {
     "slide_type": "slide"
    }
   },
   "source": [
    "- Ek simple(saral) sa calculator banaiye jo user se jo number input karne ko kehti aur unke sum(jod) ko print karti hai."
   ]
  },
  {
   "cell_type": "code",
   "execution_count": null,
   "metadata": {
    "slideshow": {
     "slide_type": "fragment"
    }
   },
   "outputs": [],
   "source": []
  }
 ],
 "metadata": {
  "celltoolbar": "Slideshow",
  "kernelspec": {
   "display_name": "Python 3",
   "language": "python",
   "name": "python3"
  },
  "language_info": {
   "codemirror_mode": {
    "name": "ipython",
    "version": 3
   },
   "file_extension": ".py",
   "mimetype": "text/x-python",
   "name": "python",
   "nbconvert_exporter": "python",
   "pygments_lexer": "ipython3",
   "version": "3.8.3"
  }
 },
 "nbformat": 4,
 "nbformat_minor": 2
}
