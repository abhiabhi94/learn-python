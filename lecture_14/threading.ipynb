{
 "cells": [
  {
   "cell_type": "markdown",
   "metadata": {
    "slideshow": {
     "slide_type": "slide"
    }
   },
   "source": [
    "## Threading in Python"
   ]
  },
  {
   "cell_type": "markdown",
   "metadata": {
    "slideshow": {
     "slide_type": "slide"
    }
   },
   "source": [
    "### What is a thread?"
   ]
  },
  {
   "cell_type": "markdown",
   "metadata": {
    "slideshow": {
     "slide_type": "fragment"
    }
   },
   "source": [
    "- a process(separate)."
   ]
  },
  {
   "cell_type": "markdown",
   "metadata": {
    "slideshow": {
     "slide_type": "slide"
    }
   },
   "source": [
    "### What is GIL ?"
   ]
  },
  {
   "cell_type": "markdown",
   "metadata": {
    "slideshow": {
     "slide_type": "fragment"
    }
   },
   "source": [
    "- Global Interpreter Lock"
   ]
  },
  {
   "cell_type": "markdown",
   "metadata": {
    "slideshow": {
     "slide_type": "slide"
    }
   },
   "source": [
    "### When to use multi-threading in python?"
   ]
  },
  {
   "cell_type": "markdown",
   "metadata": {
    "slideshow": {
     "slide_type": "fragment"
    }
   },
   "source": [
    "- tasks that require I/O operations that may take a long time."
   ]
  },
  {
   "cell_type": "markdown",
   "metadata": {
    "slideshow": {
     "slide_type": "slide"
    }
   },
   "source": [
    "### Starting a thread"
   ]
  },
  {
   "cell_type": "code",
   "execution_count": 233,
   "metadata": {
    "slideshow": {
     "slide_type": "fragment"
    }
   },
   "outputs": [
    {
     "name": "stdout",
     "output_type": "stream",
     "text": [
      "About to sleep...\n",
      "About to sleep...\n",
      "Time taken:0.00\n",
      "Done sleeping...\n",
      "Done sleeping...\n"
     ]
    }
   ],
   "source": [
    "import time\n",
    "import threading\n",
    "\n",
    "start = time.time()\n",
    "\n",
    "\n",
    "def foo():\n",
    "    print('About to sleep...')\n",
    "    time.sleep(2)\n",
    "    print('Done sleeping...')\n",
    "\n",
    "thread = threading.Thread(target=foo)\n",
    "thread_1 = threading.Thread(target=foo)\n",
    "\n",
    "thread.start()\n",
    "thread_1.start()\n",
    "\n",
    "end = time.time()\n",
    "\n",
    "print(f'Time taken:{end - start:.2f}')\n",
    " "
   ]
  },
  {
   "cell_type": "code",
   "execution_count": null,
   "metadata": {
    "slideshow": {
     "slide_type": "fragment"
    }
   },
   "outputs": [],
   "source": []
  },
  {
   "cell_type": "code",
   "execution_count": null,
   "metadata": {
    "slideshow": {
     "slide_type": "slide"
    }
   },
   "outputs": [],
   "source": []
  },
  {
   "cell_type": "markdown",
   "metadata": {
    "slideshow": {
     "slide_type": "slide"
    }
   },
   "source": [
    "### Passing values to threads"
   ]
  },
  {
   "cell_type": "code",
   "execution_count": 235,
   "metadata": {
    "slideshow": {
     "slide_type": "fragment"
    }
   },
   "outputs": [
    {
     "name": "stdout",
     "output_type": "stream",
     "text": [
      "About to sleep for 2 second(s)>>>>\n",
      "Completed in 0.00\n",
      "Done sleeping...\n"
     ]
    }
   ],
   "source": [
    "import threading\n",
    "import time\n",
    "\n",
    "\n",
    "def foo(n):\n",
    "    print(f'About to sleep for {n} second(s)>>>>')\n",
    "    time.sleep(n)\n",
    "    print('Done sleeping...')\n",
    "    \n",
    "\n",
    "start = time.perf_counter()\n",
    "\n",
    "thread = threading.Thread(target=foo, kwargs={'n': 2})\n",
    "thread.start()\n",
    "\n",
    "end = time.perf_counter()\n",
    "\n",
    "print(f'Completed in {end - start:.2f}')\n"
   ]
  },
  {
   "cell_type": "markdown",
   "metadata": {
    "slideshow": {
     "slide_type": "slide"
    }
   },
   "source": [
    "### Starting multiple threads"
   ]
  },
  {
   "cell_type": "code",
   "execution_count": 238,
   "metadata": {
    "slideshow": {
     "slide_type": "fragment"
    }
   },
   "outputs": [
    {
     "name": "stdout",
     "output_type": "stream",
     "text": [
      "About to sleep for 1 second(s)....\n",
      "About to sleep for 2 second(s)....About to sleep for 3 second(s)....\n",
      "\n",
      "About to sleep for 4 second(s)....\n",
      "About to sleep for 5 second(s)....Complete in: 0.01 second(s)\n",
      "\n",
      "Done sleeping for 1 seconds...\n",
      "Done sleeping for 2 seconds...\n",
      "Done sleeping for 3 seconds...\n",
      "Done sleeping for 4 seconds...\n",
      "Done sleeping for 5 seconds...\n"
     ]
    }
   ],
   "source": [
    "import threading\n",
    "import time\n",
    "\n",
    "\n",
    "def foo(t):\n",
    "    print('About to sleep for %s second(s)....' % t)\n",
    "    time.sleep(t)\n",
    "    print('Done sleeping for %s seconds...' % t)\n",
    "\n",
    "    \n",
    "start = time.perf_counter()\n",
    "    \n",
    "for t in range(1, 6):\n",
    "    thread = threading.Thread(target=foo, args=[t])\n",
    "    thread.start()\n",
    "    \n",
    "end = time.perf_counter()\n",
    "\n",
    "\n",
    "print(f'Complete in: {end - start:.2f} second(s)')"
   ]
  },
  {
   "cell_type": "code",
   "execution_count": null,
   "metadata": {
    "slideshow": {
     "slide_type": "fragment"
    }
   },
   "outputs": [],
   "source": []
  },
  {
   "cell_type": "markdown",
   "metadata": {
    "slideshow": {
     "slide_type": "slide"
    }
   },
   "source": [
    "### Real life example"
   ]
  },
  {
   "cell_type": "code",
   "execution_count": 242,
   "metadata": {
    "slideshow": {
     "slide_type": "slide"
    }
   },
   "outputs": [
    {
     "name": "stdout",
     "output_type": "stream",
     "text": [
      "Completed in  0.02 second(s)\n"
     ]
    }
   ],
   "source": [
    "import threading\n",
    "import os\n",
    "import time\n",
    "\n",
    "import requests\n",
    "\n",
    "start = time.perf_counter()\n",
    "\n",
    "\n",
    "def download_image(url):\n",
    "    content = requests.get(url).content\n",
    "    name = url.split('/')[-1]\n",
    "    location = os.path.join('/', 'tmp', 'images', name)\n",
    "    with open(location, 'wb') as f:\n",
    "        f.write(content)\n",
    "\n",
    "\n",
    "image_urls = [\n",
    "    'https://www.hackadda.com/media/blog/10_Awesome_VS_Code_shortcuts.png',\n",
    "    'https://www.hackadda.com/media/blog/krishna/2020/07/10/ctrl_b.gif',\n",
    "    'https://www.hackadda.com/media/blog/krishna/2020/07/10/ctrl_p.gif',\n",
    "    'https://www.hackadda.com/media/blog/krishna/2020/07/10/ctrl_shift_f_with_alt_c_and_alt_w.gif',\n",
    "    'https://www.hackadda.com/media/blog/krishna/2020/07/10/ctrl_shift_e.gif'\n",
    "]\n",
    "\n",
    "for url in image_urls:\n",
    "    thread = threading.Thread(target=download_image, args=[url])\n",
    "    thread.start()\n",
    "    \n",
    "end = time.perf_counter()\n",
    "\n",
    "print(f'Completed in {end - start: .2f} second(s)')"
   ]
  },
  {
   "cell_type": "code",
   "execution_count": 240,
   "metadata": {
    "slideshow": {
     "slide_type": "slide"
    }
   },
   "outputs": [],
   "source": [
    "import os\n",
    "\n",
    "\n",
    "os.chdir('/tmp/images')\n",
    "\n",
    "for image in os.listdir(os.getcwd()):\n",
    "    os.remove(image)"
   ]
  },
  {
   "cell_type": "code",
   "execution_count": null,
   "metadata": {
    "slideshow": {
     "slide_type": "slide"
    }
   },
   "outputs": [],
   "source": []
  },
  {
   "cell_type": "markdown",
   "metadata": {
    "slideshow": {
     "slide_type": "slide"
    }
   },
   "source": [
    "### Synchronizing Threads"
   ]
  },
  {
   "cell_type": "code",
   "execution_count": 243,
   "metadata": {
    "slideshow": {
     "slide_type": "fragment"
    }
   },
   "outputs": [
    {
     "name": "stdout",
     "output_type": "stream",
     "text": [
      "About to sleep for 2 second(s)....\n",
      "Done sleeping for 2 seconds...\n",
      "Complete in: 2.00 second(s)\n"
     ]
    }
   ],
   "source": [
    "import threading\n",
    "import time\n",
    "\n",
    "\n",
    "def foo(t):\n",
    "    print('About to sleep for %s second(s)....' % t)\n",
    "    time.sleep(t)\n",
    "    print('Done sleeping for %s seconds...' % t)\n",
    "\n",
    "    \n",
    "start = time.perf_counter()\n",
    "    \n",
    "thread = threading.Thread(target=foo, args=[2])\n",
    "thread.start()\n",
    "    \n",
    "thread.join()\n",
    "    \n",
    "end = time.perf_counter()\n",
    "\n",
    "\n",
    "print(f'Complete in: {end - start:.2f} second(s)')"
   ]
  },
  {
   "cell_type": "code",
   "execution_count": null,
   "metadata": {
    "slideshow": {
     "slide_type": "fragment"
    }
   },
   "outputs": [],
   "source": []
  },
  {
   "cell_type": "markdown",
   "metadata": {
    "slideshow": {
     "slide_type": "slide"
    }
   },
   "source": [
    "### Another Exmaple"
   ]
  },
  {
   "cell_type": "code",
   "execution_count": 244,
   "metadata": {
    "slideshow": {
     "slide_type": "fragment"
    }
   },
   "outputs": [
    {
     "name": "stdout",
     "output_type": "stream",
     "text": [
      "About to sleep for 1 second(s)....\n",
      "About to sleep for 2 second(s)....\n",
      "About to sleep for 3 second(s)....About to sleep for 4 second(s)....\n",
      "\n",
      "About to sleep for 5 second(s)....\n",
      "Done sleeping for 1 seconds...\n",
      "Done sleeping for 2 seconds...\n",
      "Done sleeping for 3 seconds...\n",
      "Done sleeping for 4 seconds...\n",
      "Done sleeping for 5 seconds...\n",
      "Complete in: 5.01 second(s)\n"
     ]
    }
   ],
   "source": [
    "import threading\n",
    "import time\n",
    "\n",
    "\n",
    "def foo(t):\n",
    "    print('About to sleep for %s second(s)....' % t)\n",
    "    time.sleep(t)\n",
    "    print('Done sleeping for %s seconds...' % t)\n",
    "\n",
    "    \n",
    "start = time.perf_counter()\n",
    "    \n",
    "threads = []\n",
    "for t in range(1, 6):\n",
    "    thread = threading.Thread(target=foo, args=[t])\n",
    "    thread.start()\n",
    "    threads.append(thread)\n",
    "    \n",
    "for thread in threads:\n",
    "    thread.join()\n",
    "    \n",
    "end = time.perf_counter()\n",
    "\n",
    "\n",
    "print(f'Complete in: {end - start:.2f} second(s)')"
   ]
  },
  {
   "cell_type": "markdown",
   "metadata": {
    "slideshow": {
     "slide_type": "slide"
    }
   },
   "source": [
    "### Newer Syntax for `threading`"
   ]
  },
  {
   "cell_type": "code",
   "execution_count": 247,
   "metadata": {},
   "outputs": [
    {
     "data": {
      "text/plain": [
       "[22, 23, 244]"
      ]
     },
     "execution_count": 247,
     "metadata": {},
     "output_type": "execute_result"
    }
   ],
   "source": [
    "lst = ['22', '23', '244']\n",
    "\n",
    "list(map(int, lst))"
   ]
  },
  {
   "cell_type": "code",
   "execution_count": 246,
   "metadata": {
    "slideshow": {
     "slide_type": "fragment"
    }
   },
   "outputs": [
    {
     "name": "stdout",
     "output_type": "stream",
     "text": [
      "About to sleep...\n",
      "Thread not completed !\n",
      "Awake now....\n",
      "Finished\n"
     ]
    }
   ],
   "source": [
    "from concurrent.futures import ThreadPoolExecutor\n",
    "import time\n",
    "\n",
    "\n",
    "def foo():\n",
    "    print('About to sleep...')\n",
    "    time.sleep(1)\n",
    "    print('Awake now....')\n",
    "    \n",
    "    \n",
    "with ThreadPoolExecutor() as executor:\n",
    "#     lst = [1, 2, 3, 4, 5]\n",
    "    executor.submit(foo)\n",
    "    \n",
    "print('Finished')"
   ]
  },
  {
   "cell_type": "code",
   "execution_count": null,
   "metadata": {
    "slideshow": {
     "slide_type": "slide"
    }
   },
   "outputs": [],
   "source": []
  },
  {
   "cell_type": "markdown",
   "metadata": {
    "slideshow": {
     "slide_type": "slide"
    }
   },
   "source": [
    "### `Race` Condition"
   ]
  },
  {
   "cell_type": "markdown",
   "metadata": {
    "slideshow": {
     "slide_type": "fragment"
    }
   },
   "source": [
    "- different threads manipulating the same object"
   ]
  },
  {
   "cell_type": "markdown",
   "metadata": {
    "slideshow": {
     "slide_type": "slide"
    }
   },
   "source": [
    "#### An example"
   ]
  },
  {
   "cell_type": "code",
   "execution_count": 251,
   "metadata": {},
   "outputs": [
    {
     "data": {
      "text/plain": [
       "'a=8'"
      ]
     },
     "execution_count": 251,
     "metadata": {},
     "output_type": "execute_result"
    }
   ],
   "source": [
    "a = 8\n",
    "f'{a=}'"
   ]
  },
  {
   "cell_type": "code",
   "execution_count": 252,
   "metadata": {
    "collapsed": true,
    "slideshow": {
     "slide_type": "fragment"
    }
   },
   "outputs": [
    {
     "name": "stdout",
     "output_type": "stream",
     "text": [
      "Inside thread: n=0Inside thread: n=1\n",
      "\n",
      "value after threads are executed: data.val=1\n"
     ]
    }
   ],
   "source": [
    "from concurrent.futures import ThreadPoolExecutor\n",
    "import time\n",
    "\n",
    "\n",
    "class Data:\n",
    "    def __init__(self):\n",
    "        self.val = 0\n",
    "        \n",
    "    def update(self, n):\n",
    "        print(f'Inside thread: {n=}')\n",
    "        local_val = self.val\n",
    "        time.sleep(1)\n",
    "        self.val = local_val + 1\n",
    "    \n",
    "with ThreadPoolExecutor() as executor:\n",
    "    data = Data()\n",
    "    for num in range(2):\n",
    "        executor.submit(data.update, num)\n",
    "        \n",
    "print(f'value after threads are executed: {data.val=}')\n",
    "        "
   ]
  },
  {
   "cell_type": "code",
   "execution_count": null,
   "metadata": {
    "slideshow": {
     "slide_type": "slide"
    }
   },
   "outputs": [],
   "source": []
  },
  {
   "cell_type": "markdown",
   "metadata": {
    "slideshow": {
     "slide_type": "slide"
    }
   },
   "source": [
    "#### Handling `Race` condition"
   ]
  },
  {
   "cell_type": "code",
   "execution_count": 261,
   "metadata": {
    "slideshow": {
     "slide_type": "fragment"
    }
   },
   "outputs": [
    {
     "name": "stdout",
     "output_type": "stream",
     "text": [
      "Inside thread: n=0\n",
      "Locked thread: n=0Inside thread: n=1\n",
      "\n",
      "Locked thread: n=1\n",
      "value after threads are executed: data.val=2\n"
     ]
    }
   ],
   "source": [
    "from concurrent.futures import ThreadPoolExecutor\n",
    "import time\n",
    "import threading\n",
    "\n",
    "\n",
    "class Data:\n",
    "    def __init__(self):\n",
    "        self.val = 0\n",
    "        self._lock = threading.Lock()\n",
    "        \n",
    "    def update(self, n):\n",
    "        print(f'Inside thread: {n=}')\n",
    "        with self._lock:\n",
    "            local_val = self.val\n",
    "            print(f'Locked thread: {n=}')\n",
    "            time.sleep(1)\n",
    "            self.val = local_val + 1\n",
    "    \n",
    "with ThreadPoolExecutor() as executor:\n",
    "    data = Data()\n",
    "    for num in range(2):\n",
    "        executor.submit(data.update, num)\n",
    "        \n",
    "print(f'value after threads are executed: {data.val=}')"
   ]
  },
  {
   "cell_type": "markdown",
   "metadata": {
    "slideshow": {
     "slide_type": "slide"
    }
   },
   "source": [
    "### Deadlock"
   ]
  },
  {
   "cell_type": "markdown",
   "metadata": {
    "slideshow": {
     "slide_type": "fragment"
    }
   },
   "source": [
    "### Real life deadlock\n",
    "\n",
    "\n",
    "**Interviewer**: *What is deadlock?*\n",
    "\n",
    "**Interviewee**: *Hire me and I will tell you what a deadlock is*"
   ]
  },
  {
   "cell_type": "markdown",
   "metadata": {
    "slideshow": {
     "slide_type": "slide"
    }
   },
   "source": [
    "### Multithreading v/s Multiprocessing"
   ]
  },
  {
   "cell_type": "code",
   "execution_count": 259,
   "metadata": {
    "collapsed": true,
    "slideshow": {
     "slide_type": "slide"
    }
   },
   "outputs": [
    {
     "ename": "SyntaxError",
     "evalue": "invalid syntax (<ipython-input-259-33cdb03cbfed>, line 1)",
     "output_type": "error",
     "traceback": [
      "\u001b[0;36m  File \u001b[0;32m\"<ipython-input-259-33cdb03cbfed>\"\u001b[0;36m, line \u001b[0;32m1\u001b[0m\n\u001b[0;31m    from concurrent.futures import\u001b[0m\n\u001b[0m                                   ^\u001b[0m\n\u001b[0;31mSyntaxError\u001b[0m\u001b[0;31m:\u001b[0m invalid syntax\n"
     ]
    }
   ],
   "source": [
    "from concurrent.futures import ProcessPoolExecutor\n",
    "\n",
    "\n",
    "def is_prime(n):\n",
    "    pass\n",
    "\n",
    "with ProcessPoolExecutor() as executor:\n",
    "    nums = []\n",
    "    \n",
    "    for num in nums:\n",
    "        executor.submit(is_prime, nums)"
   ]
  }
 ],
 "metadata": {
  "celltoolbar": "Slideshow",
  "kernelspec": {
   "display_name": "Python 3",
   "language": "python",
   "name": "python3"
  },
  "language_info": {
   "codemirror_mode": {
    "name": "ipython",
    "version": 3
   },
   "file_extension": ".py",
   "mimetype": "text/x-python",
   "name": "python",
   "nbconvert_exporter": "python",
   "pygments_lexer": "ipython3",
   "version": "3.8.3"
  }
 },
 "nbformat": 4,
 "nbformat_minor": 4
}
